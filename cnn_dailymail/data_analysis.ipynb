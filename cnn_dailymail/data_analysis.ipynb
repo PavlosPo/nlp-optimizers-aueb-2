{
 "cells": [
  {
   "cell_type": "code",
   "execution_count": 1,
   "metadata": {},
   "outputs": [
    {
     "name": "stderr",
     "output_type": "stream",
     "text": [
      "/home/ppoulos/miniconda3/envs/pavlosEnv2/lib/python3.11/site-packages/tqdm/auto.py:21: TqdmWarning: IProgress not found. Please update jupyter and ipywidgets. See https://ipywidgets.readthedocs.io/en/stable/user_install.html\n",
      "  from .autonotebook import tqdm as notebook_tqdm\n"
     ]
    }
   ],
   "source": [
    "import numpy as np\n",
    "from datasets import load_dataset\n",
    "import matplotlib.pyplot as plt\n",
    "import pandas as pd\n",
    "from transformers import AutoTokenizer, DataCollatorForSeq2Seq"
   ]
  },
  {
   "cell_type": "code",
   "execution_count": 2,
   "metadata": {},
   "outputs": [],
   "source": [
    "dataset = \"cnn_dailymail\"\n",
    "seed_num = 1\n",
    "model_name = \"google-t5/t5-small\""
   ]
  },
  {
   "cell_type": "code",
   "execution_count": 4,
   "metadata": {},
   "outputs": [],
   "source": [
    "loaded_dataset = load_dataset(dataset, '3.0.0')"
   ]
  },
  {
   "cell_type": "code",
   "execution_count": 5,
   "metadata": {},
   "outputs": [
    {
     "data": {
      "text/plain": [
       "DatasetDict({\n",
       "    train: Dataset({\n",
       "        features: ['article', 'highlights', 'id'],\n",
       "        num_rows: 287113\n",
       "    })\n",
       "    validation: Dataset({\n",
       "        features: ['article', 'highlights', 'id'],\n",
       "        num_rows: 13368\n",
       "    })\n",
       "    test: Dataset({\n",
       "        features: ['article', 'highlights', 'id'],\n",
       "        num_rows: 11490\n",
       "    })\n",
       "})"
      ]
     },
     "execution_count": 5,
     "metadata": {},
     "output_type": "execute_result"
    }
   ],
   "source": [
    "loaded_dataset\n",
    "# make the dataset into a pandas dataframe\n",
    "# df = pd.DataFrame(loaded_dataset['train'])\n",
    "# # add the test dataset to the dataframe\n",
    "# df = pd.concat([df, pd.DataFrame(loaded_dataset['test'])], ignore_index=True)"
   ]
  },
  {
   "cell_type": "code",
   "execution_count": 6,
   "metadata": {},
   "outputs": [],
   "source": [
    "# Tokenize the summary column\n",
    "tokenizer = AutoTokenizer.from_pretrained(model_name)"
   ]
  },
  {
   "cell_type": "code",
   "execution_count": 7,
   "metadata": {},
   "outputs": [
    {
     "name": "stderr",
     "output_type": "stream",
     "text": [
      "Map:   0%|          | 0/287113 [00:00<?, ? examples/s]Token indices sequence length is longer than the specified maximum sequence length for this model (638 > 512). Running this sequence through the model will result in indexing errors\n",
      "Map: 100%|██████████| 287113/287113 [03:43<00:00, 1285.23 examples/s]\n",
      "Map: 100%|██████████| 13368/13368 [00:10<00:00, 1222.92 examples/s]\n",
      "Map: 100%|██████████| 11490/11490 [00:09<00:00, 1227.36 examples/s]\n"
     ]
    }
   ],
   "source": [
    "prefix = \"summarize: \"  # Required so the T5 model knows that we are going to summarize\n",
    "def preprocess_function(examples):\n",
    "    inputs = [prefix + doc for doc in examples[\"article\"]]\n",
    "    model_inputs = tokenizer(inputs)\n",
    "    labels = tokenizer(text_target=examples[\"highlights\"])\n",
    "    model_inputs[\"labels\"] = labels[\"input_ids\"]\n",
    "    return model_inputs\n",
    "\n",
    "data_collator = DataCollatorForSeq2Seq(tokenizer=tokenizer, model=model_name)\n",
    "tokenized_dataset = loaded_dataset.map(preprocess_function, batched=True)"
   ]
  },
  {
   "cell_type": "code",
   "execution_count": 9,
   "metadata": {},
   "outputs": [
    {
     "data": {
      "text/html": [
       "<div>\n",
       "<style scoped>\n",
       "    .dataframe tbody tr th:only-of-type {\n",
       "        vertical-align: middle;\n",
       "    }\n",
       "\n",
       "    .dataframe tbody tr th {\n",
       "        vertical-align: top;\n",
       "    }\n",
       "\n",
       "    .dataframe thead th {\n",
       "        text-align: right;\n",
       "    }\n",
       "</style>\n",
       "<table border=\"1\" class=\"dataframe\">\n",
       "  <thead>\n",
       "    <tr style=\"text-align: right;\">\n",
       "      <th></th>\n",
       "      <th>article</th>\n",
       "      <th>highlights</th>\n",
       "      <th>id</th>\n",
       "      <th>input_ids</th>\n",
       "      <th>attention_mask</th>\n",
       "      <th>labels</th>\n",
       "    </tr>\n",
       "  </thead>\n",
       "  <tbody>\n",
       "    <tr>\n",
       "      <th>287108</th>\n",
       "      <td>The nine-year-old daughter of a black, unarmed...</td>\n",
       "      <td>Rumain Brisbon, 34, was killed after Phoenix p...</td>\n",
       "      <td>279a12d3ee37b8109cc192a9e88115a5a631fb06</td>\n",
       "      <td>[21603, 10, 37, 4169, 18, 1201, 18, 1490, 3062...</td>\n",
       "      <td>[1, 1, 1, 1, 1, 1, 1, 1, 1, 1, 1, 1, 1, 1, 1, ...</td>\n",
       "      <td>[2770, 7484, 7834, 7, 5407, 6, 6154, 6, 47, 47...</td>\n",
       "    </tr>\n",
       "    <tr>\n",
       "      <th>287109</th>\n",
       "      <td>Legalising assisted suicide is a slippery slop...</td>\n",
       "      <td>Theo Boer, a European assisted suicide watchdo...</td>\n",
       "      <td>b5bc9d404a9a5d890c9fc26550b67e6d8d83241f</td>\n",
       "      <td>[21603, 10, 11281, 4890, 11752, 12259, 19, 3, ...</td>\n",
       "      <td>[1, 1, 1, 1, 1, 1, 1, 1, 1, 1, 1, 1, 1, 1, 1, ...</td>\n",
       "      <td>[37, 32, 1491, 49, 6, 3, 9, 1611, 11752, 12259...</td>\n",
       "    </tr>\n",
       "    <tr>\n",
       "      <th>287110</th>\n",
       "      <td>A group calling itself 'The Women of the 99 Pe...</td>\n",
       "      <td>Ohio congressman criticised for 'condoning the...</td>\n",
       "      <td>500862586f925e406f8b662934e1a71bbee32463</td>\n",
       "      <td>[21603, 10, 71, 563, 3874, 1402, 3, 31, 634, 4...</td>\n",
       "      <td>[1, 1, 1, 1, 1, 1, 1, 1, 1, 1, 1, 1, 1, 1, 1, ...</td>\n",
       "      <td>[6167, 27197, 348, 6800, 3375, 21, 3, 31, 1018...</td>\n",
       "    </tr>\n",
       "    <tr>\n",
       "      <th>287111</th>\n",
       "      <td>Most men enjoy a good pint of lager or real al...</td>\n",
       "      <td>The Black Country Ale Tairsters have been to 1...</td>\n",
       "      <td>32a1f9e5c37a938c0c0bca1a1559247b9c4334b2</td>\n",
       "      <td>[21603, 10, 1377, 1076, 777, 3, 9, 207, 4522, ...</td>\n",
       "      <td>[1, 1, 1, 1, 1, 1, 1, 1, 1, 1, 1, 1, 1, 1, 1, ...</td>\n",
       "      <td>[37, 1589, 6993, 15345, 332, 2256, 1370, 7, 43...</td>\n",
       "    </tr>\n",
       "    <tr>\n",
       "      <th>287112</th>\n",
       "      <td>A Facebook page seeking to preserve the 'Black...</td>\n",
       "      <td>Facebook page supporting tradition gains one m...</td>\n",
       "      <td>8ec9ff4d633dd4cc26d53f503c33f7464b43c36e</td>\n",
       "      <td>[21603, 10, 71, 1376, 543, 3945, 12, 8996, 8, ...</td>\n",
       "      <td>[1, 1, 1, 1, 1, 1, 1, 1, 1, 1, 1, 1, 1, 1, 1, ...</td>\n",
       "      <td>[1376, 543, 3956, 4387, 11391, 80, 770, 3, 31,...</td>\n",
       "    </tr>\n",
       "  </tbody>\n",
       "</table>\n",
       "</div>"
      ],
      "text/plain": [
       "                                                  article  \\\n",
       "287108  The nine-year-old daughter of a black, unarmed...   \n",
       "287109  Legalising assisted suicide is a slippery slop...   \n",
       "287110  A group calling itself 'The Women of the 99 Pe...   \n",
       "287111  Most men enjoy a good pint of lager or real al...   \n",
       "287112  A Facebook page seeking to preserve the 'Black...   \n",
       "\n",
       "                                               highlights  \\\n",
       "287108  Rumain Brisbon, 34, was killed after Phoenix p...   \n",
       "287109  Theo Boer, a European assisted suicide watchdo...   \n",
       "287110  Ohio congressman criticised for 'condoning the...   \n",
       "287111  The Black Country Ale Tairsters have been to 1...   \n",
       "287112  Facebook page supporting tradition gains one m...   \n",
       "\n",
       "                                              id  \\\n",
       "287108  279a12d3ee37b8109cc192a9e88115a5a631fb06   \n",
       "287109  b5bc9d404a9a5d890c9fc26550b67e6d8d83241f   \n",
       "287110  500862586f925e406f8b662934e1a71bbee32463   \n",
       "287111  32a1f9e5c37a938c0c0bca1a1559247b9c4334b2   \n",
       "287112  8ec9ff4d633dd4cc26d53f503c33f7464b43c36e   \n",
       "\n",
       "                                                input_ids  \\\n",
       "287108  [21603, 10, 37, 4169, 18, 1201, 18, 1490, 3062...   \n",
       "287109  [21603, 10, 11281, 4890, 11752, 12259, 19, 3, ...   \n",
       "287110  [21603, 10, 71, 563, 3874, 1402, 3, 31, 634, 4...   \n",
       "287111  [21603, 10, 1377, 1076, 777, 3, 9, 207, 4522, ...   \n",
       "287112  [21603, 10, 71, 1376, 543, 3945, 12, 8996, 8, ...   \n",
       "\n",
       "                                           attention_mask  \\\n",
       "287108  [1, 1, 1, 1, 1, 1, 1, 1, 1, 1, 1, 1, 1, 1, 1, ...   \n",
       "287109  [1, 1, 1, 1, 1, 1, 1, 1, 1, 1, 1, 1, 1, 1, 1, ...   \n",
       "287110  [1, 1, 1, 1, 1, 1, 1, 1, 1, 1, 1, 1, 1, 1, 1, ...   \n",
       "287111  [1, 1, 1, 1, 1, 1, 1, 1, 1, 1, 1, 1, 1, 1, 1, ...   \n",
       "287112  [1, 1, 1, 1, 1, 1, 1, 1, 1, 1, 1, 1, 1, 1, 1, ...   \n",
       "\n",
       "                                                   labels  \n",
       "287108  [2770, 7484, 7834, 7, 5407, 6, 6154, 6, 47, 47...  \n",
       "287109  [37, 32, 1491, 49, 6, 3, 9, 1611, 11752, 12259...  \n",
       "287110  [6167, 27197, 348, 6800, 3375, 21, 3, 31, 1018...  \n",
       "287111  [37, 1589, 6993, 15345, 332, 2256, 1370, 7, 43...  \n",
       "287112  [1376, 543, 3956, 4387, 11391, 80, 770, 3, 31,...  "
      ]
     },
     "execution_count": 9,
     "metadata": {},
     "output_type": "execute_result"
    }
   ],
   "source": [
    "# Make the dataset into a Dataframe\n",
    "df = pd.DataFrame(tokenized_dataset['train'])\n",
    "df.tail()"
   ]
  },
  {
   "cell_type": "code",
   "execution_count": 11,
   "metadata": {},
   "outputs": [
    {
     "name": "stdout",
     "output_type": "stream",
     "text": [
      "('LONDON, England (Reuters) -- Harry Potter star Daniel Radcliffe gains access '\n",
      " 'to a reported £20 million ($41.1 million) fortune as he turns 18 on Monday, '\n",
      " \"but he insists the money won't cast a spell on him. Daniel Radcliffe as \"\n",
      " 'Harry Potter in \"Harry Potter and the Order of the Phoenix\" To the '\n",
      " 'disappointment of gossip columnists around the world, the young actor says '\n",
      " 'he has no plans to fritter his cash away on fast cars, drink and celebrity '\n",
      " 'parties. \"I don\\'t plan to be one of those people who, as soon as they turn '\n",
      " '18, suddenly buy themselves a massive sports car collection or something '\n",
      " 'similar,\" he told an Australian interviewer earlier this month. \"I don\\'t '\n",
      " 'think I\\'ll be particularly extravagant. \"The things I like buying are '\n",
      " 'things that cost about 10 pounds -- books and CDs and DVDs.\" At 18, '\n",
      " 'Radcliffe will be able to gamble in a casino, buy a drink in a pub or see '\n",
      " 'the horror film \"Hostel: Part II,\" currently six places below his number one '\n",
      " \"movie on the UK box office chart. Details of how he'll mark his landmark \"\n",
      " 'birthday are under wraps. His agent and publicist had no comment on his '\n",
      " 'plans. \"I\\'ll definitely have some sort of party,\" he said in an interview. '\n",
      " '\"Hopefully none of you will be reading about it.\" Radcliffe\\'s earnings from '\n",
      " 'the first five Potter films have been held in a trust fund which he has not '\n",
      " 'been able to touch. Despite his growing fame and riches, the actor says he '\n",
      " 'is keeping his feet firmly on the ground. \"People are always looking to say '\n",
      " '\\'kid star goes off the rails,\\'\" he told reporters last month. \"But I try '\n",
      " 'very hard not to go that way because it would be too easy for them.\" His '\n",
      " 'latest outing as the boy wizard in \"Harry Potter and the Order of the '\n",
      " 'Phoenix\" is breaking records on both sides of the Atlantic and he will '\n",
      " 'reprise the role in the last two films.  Watch I-Reporter give her review of '\n",
      " \"Potter's latest » . There is life beyond Potter, however. The Londoner has \"\n",
      " 'filmed a TV movie called \"My Boy Jack,\" about author Rudyard Kipling and his '\n",
      " 'son, due for release later this year. He will also appear in \"December '\n",
      " 'Boys,\" an Australian film about four boys who escape an orphanage. Earlier '\n",
      " 'this year, he made his stage debut playing a tortured teenager in Peter '\n",
      " 'Shaffer\\'s \"Equus.\" Meanwhile, he is braced for even closer media scrutiny '\n",
      " 'now that he\\'s legally an adult: \"I just think I\\'m going to be more sort of '\n",
      " 'fair game,\" he told Reuters. E-mail to a friend . Copyright 2007 Reuters. '\n",
      " 'All rights reserved.This material may not be published, broadcast, '\n",
      " 'rewritten, or redistributed.')\n"
     ]
    }
   ],
   "source": [
    "from pprint import pprint\n",
    "pprint(df['article'][0])"
   ]
  },
  {
   "cell_type": "code",
   "execution_count": 12,
   "metadata": {},
   "outputs": [
    {
     "data": {
      "text/plain": [
       "count    287113.000000\n",
       "mean        985.055038\n",
       "std         480.603123\n",
       "min          20.000000\n",
       "25%         631.000000\n",
       "50%         898.000000\n",
       "75%        1244.000000\n",
       "90%        1659.000000\n",
       "95%        1947.000000\n",
       "99%        2405.000000\n",
       "max        5269.000000\n",
       "Name: input_ids, dtype: float64"
      ]
     },
     "execution_count": 12,
     "metadata": {},
     "output_type": "execute_result"
    }
   ],
   "source": [
    "# Give me the percentiles of length of input_ids using pandas and plot them\n",
    "df['input_ids'].apply(len).describe(percentiles=[0.25, 0.5, 0.75, 0.9, 0.95, 0.99])"
   ]
  },
  {
   "cell_type": "code",
   "execution_count": 13,
   "metadata": {},
   "outputs": [
    {
     "data": {
      "text/plain": [
       "count    287113.000000\n",
       "mean         74.682811\n",
       "std          30.752373\n",
       "min           7.000000\n",
       "25%          55.000000\n",
       "50%          70.000000\n",
       "75%          87.000000\n",
       "90%         110.000000\n",
       "95%         129.000000\n",
       "99%         171.000000\n",
       "max        3151.000000\n",
       "Name: labels, dtype: float64"
      ]
     },
     "execution_count": 13,
     "metadata": {},
     "output_type": "execute_result"
    }
   ],
   "source": [
    "# The same for the labels\n",
    "df['labels'].apply(len).describe(percentiles=[0.25, 0.5, 0.75, 0.9, 0.95, 0.99])"
   ]
  },
  {
   "cell_type": "code",
   "execution_count": null,
   "metadata": {},
   "outputs": [],
   "source": []
  }
 ],
 "metadata": {
  "kernelspec": {
   "display_name": "pavlosEnv2",
   "language": "python",
   "name": "python3"
  },
  "language_info": {
   "codemirror_mode": {
    "name": "ipython",
    "version": 3
   },
   "file_extension": ".py",
   "mimetype": "text/x-python",
   "name": "python",
   "nbconvert_exporter": "python",
   "pygments_lexer": "ipython3",
   "version": "3.11.9"
  }
 },
 "nbformat": 4,
 "nbformat_minor": 2
}
