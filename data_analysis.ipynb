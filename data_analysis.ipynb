{
 "cells": [
  {
   "cell_type": "code",
   "execution_count": 44,
   "metadata": {},
   "outputs": [],
   "source": [
    "import numpy as np\n",
    "from datasets import load_dataset\n",
    "import matplotlib.pyplot as plt\n",
    "import pandas as pd\n",
    "from transformers import AutoTokenizer, DataCollatorForSeq2Seq"
   ]
  },
  {
   "cell_type": "code",
   "execution_count": 45,
   "metadata": {},
   "outputs": [],
   "source": [
    "dataset = \"billsum\"\n",
    "seed_num = 1\n",
    "model_name = \"google-t5/t5-small\""
   ]
  },
  {
   "cell_type": "code",
   "execution_count": 46,
   "metadata": {},
   "outputs": [],
   "source": [
    "loaded_dataset = load_dataset(dataset, split=\"ca_test\")\n",
    "# loaded_dataset = loaded_dataset.train_test_split(test_size=0.2, seed=seed_num, shuffle=True)"
   ]
  },
  {
   "cell_type": "code",
   "execution_count": 62,
   "metadata": {},
   "outputs": [],
   "source": [
    "loaded_dataset\n",
    "# make the dataset into a pandas dataframe\n",
    "df = pd.DataFrame(loaded_dataset['train'])\n",
    "# add the test dataset to the dataframe\n",
    "df = pd.concat([df, pd.DataFrame(loaded_dataset['test'])], ignore_index=True)"
   ]
  },
  {
   "cell_type": "code",
   "execution_count": 63,
   "metadata": {},
   "outputs": [
    {
     "data": {
      "text/html": [
       "<div>\n",
       "<style scoped>\n",
       "    .dataframe tbody tr th:only-of-type {\n",
       "        vertical-align: middle;\n",
       "    }\n",
       "\n",
       "    .dataframe tbody tr th {\n",
       "        vertical-align: top;\n",
       "    }\n",
       "\n",
       "    .dataframe thead th {\n",
       "        text-align: right;\n",
       "    }\n",
       "</style>\n",
       "<table border=\"1\" class=\"dataframe\">\n",
       "  <thead>\n",
       "    <tr style=\"text-align: right;\">\n",
       "      <th></th>\n",
       "      <th>text</th>\n",
       "      <th>summary</th>\n",
       "      <th>title</th>\n",
       "    </tr>\n",
       "  </thead>\n",
       "  <tbody>\n",
       "    <tr>\n",
       "      <th>0</th>\n",
       "      <td>The people of the State of California do enact...</td>\n",
       "      <td>Existing law establishes the State Coastal Con...</td>\n",
       "      <td>An act to add Chapter 10 (commencing with Sect...</td>\n",
       "    </tr>\n",
       "    <tr>\n",
       "      <th>1</th>\n",
       "      <td>The people of the State of California do enact...</td>\n",
       "      <td>Existing law, the Safe Neighborhoods and Schoo...</td>\n",
       "      <td>An act to add Article 10 (commencing with Sect...</td>\n",
       "    </tr>\n",
       "    <tr>\n",
       "      <th>2</th>\n",
       "      <td>The people of the State of California do enact...</td>\n",
       "      <td>The California Revised Uniform Limited Liabili...</td>\n",
       "      <td>An act to amend Section 17701.02 of the Corpor...</td>\n",
       "    </tr>\n",
       "    <tr>\n",
       "      <th>3</th>\n",
       "      <td>The people of the State of California do enact...</td>\n",
       "      <td>Under existing law, the Public Utilities Commi...</td>\n",
       "      <td>An act to amend Section 399.16 of the Public U...</td>\n",
       "    </tr>\n",
       "    <tr>\n",
       "      <th>4</th>\n",
       "      <td>The people of the State of California do enact...</td>\n",
       "      <td>(1) Existing law authorizes a county board of ...</td>\n",
       "      <td>An act to amend Sections 44332, 44332.5, and 4...</td>\n",
       "    </tr>\n",
       "    <tr>\n",
       "      <th>...</th>\n",
       "      <td>...</td>\n",
       "      <td>...</td>\n",
       "      <td>...</td>\n",
       "    </tr>\n",
       "    <tr>\n",
       "      <th>1232</th>\n",
       "      <td>The people of the State of California do enact...</td>\n",
       "      <td>Existing law provides for the annual assessmen...</td>\n",
       "      <td>An act to amend and renumber Section 674 of, a...</td>\n",
       "    </tr>\n",
       "    <tr>\n",
       "      <th>1233</th>\n",
       "      <td>The people of the State of California do enact...</td>\n",
       "      <td>Existing law generally sets forth the requirem...</td>\n",
       "      <td>An act to add Chapter 6.7 (commencing with Sec...</td>\n",
       "    </tr>\n",
       "    <tr>\n",
       "      <th>1234</th>\n",
       "      <td>The people of the State of California do enact...</td>\n",
       "      <td>Existing law makes it a misdemeanor to place o...</td>\n",
       "      <td>An act to\\nadd\\namend\\nSection\\n3055 to\\n556.4...</td>\n",
       "    </tr>\n",
       "    <tr>\n",
       "      <th>1235</th>\n",
       "      <td>The people of the State of California do enact...</td>\n",
       "      <td>Existing law prohibits a person from being tri...</td>\n",
       "      <td>An act to add Chapter 16 (commencing with Sect...</td>\n",
       "    </tr>\n",
       "    <tr>\n",
       "      <th>1236</th>\n",
       "      <td>The people of the State of California do enact...</td>\n",
       "      <td>Under existing law, the Lanterman Developmenta...</td>\n",
       "      <td>An act to amend Section 4652.5 of the Welfare ...</td>\n",
       "    </tr>\n",
       "  </tbody>\n",
       "</table>\n",
       "<p>1237 rows × 3 columns</p>\n",
       "</div>"
      ],
      "text/plain": [
       "                                                   text  \\\n",
       "0     The people of the State of California do enact...   \n",
       "1     The people of the State of California do enact...   \n",
       "2     The people of the State of California do enact...   \n",
       "3     The people of the State of California do enact...   \n",
       "4     The people of the State of California do enact...   \n",
       "...                                                 ...   \n",
       "1232  The people of the State of California do enact...   \n",
       "1233  The people of the State of California do enact...   \n",
       "1234  The people of the State of California do enact...   \n",
       "1235  The people of the State of California do enact...   \n",
       "1236  The people of the State of California do enact...   \n",
       "\n",
       "                                                summary  \\\n",
       "0     Existing law establishes the State Coastal Con...   \n",
       "1     Existing law, the Safe Neighborhoods and Schoo...   \n",
       "2     The California Revised Uniform Limited Liabili...   \n",
       "3     Under existing law, the Public Utilities Commi...   \n",
       "4     (1) Existing law authorizes a county board of ...   \n",
       "...                                                 ...   \n",
       "1232  Existing law provides for the annual assessmen...   \n",
       "1233  Existing law generally sets forth the requirem...   \n",
       "1234  Existing law makes it a misdemeanor to place o...   \n",
       "1235  Existing law prohibits a person from being tri...   \n",
       "1236  Under existing law, the Lanterman Developmenta...   \n",
       "\n",
       "                                                  title  \n",
       "0     An act to add Chapter 10 (commencing with Sect...  \n",
       "1     An act to add Article 10 (commencing with Sect...  \n",
       "2     An act to amend Section 17701.02 of the Corpor...  \n",
       "3     An act to amend Section 399.16 of the Public U...  \n",
       "4     An act to amend Sections 44332, 44332.5, and 4...  \n",
       "...                                                 ...  \n",
       "1232  An act to amend and renumber Section 674 of, a...  \n",
       "1233  An act to add Chapter 6.7 (commencing with Sec...  \n",
       "1234  An act to\\nadd\\namend\\nSection\\n3055 to\\n556.4...  \n",
       "1235  An act to add Chapter 16 (commencing with Sect...  \n",
       "1236  An act to amend Section 4652.5 of the Welfare ...  \n",
       "\n",
       "[1237 rows x 3 columns]"
      ]
     },
     "execution_count": 63,
     "metadata": {},
     "output_type": "execute_result"
    }
   ],
   "source": [
    "df"
   ]
  },
  {
   "cell_type": "code",
   "execution_count": 64,
   "metadata": {},
   "outputs": [],
   "source": [
    "# Tokenize the summary column\n",
    "tokenizer = AutoTokenizer.from_pretrained(model_name)"
   ]
  },
  {
   "cell_type": "code",
   "execution_count": 65,
   "metadata": {},
   "outputs": [
    {
     "name": "stderr",
     "output_type": "stream",
     "text": [
      "Map:   0%|          | 0/989 [00:00<?, ? examples/s]"
     ]
    },
    {
     "name": "stderr",
     "output_type": "stream",
     "text": [
      "Token indices sequence length is longer than the specified maximum sequence length for this model (1772 > 512). Running this sequence through the model will result in indexing errors\n",
      "Map: 100%|██████████| 989/989 [00:01<00:00, 530.77 examples/s]\n"
     ]
    }
   ],
   "source": [
    "prefix = \"summarize: \"  # Required so the T5 model knows that we are going to summarize\n",
    "def preprocess_function(examples):\n",
    "    inputs = [prefix + doc for doc in examples[\"text\"]]\n",
    "    model_inputs = tokenizer(inputs)\n",
    "    labels = tokenizer(text_target=examples[\"summary\"])\n",
    "    model_inputs[\"labels\"] = labels[\"input_ids\"]\n",
    "    return model_inputs\n",
    "\n",
    "data_collator = DataCollatorForSeq2Seq(tokenizer=tokenizer, model=model_name)\n",
    "tokenized_dataset = loaded_dataset.map(preprocess_function, batched=True)"
   ]
  }
 ],
 "metadata": {
  "kernelspec": {
   "display_name": "pavlosEnv2",
   "language": "python",
   "name": "python3"
  },
  "language_info": {
   "codemirror_mode": {
    "name": "ipython",
    "version": 3
   },
   "file_extension": ".py",
   "mimetype": "text/x-python",
   "name": "python",
   "nbconvert_exporter": "python",
   "pygments_lexer": "ipython3",
   "version": "3.11.9"
  }
 },
 "nbformat": 4,
 "nbformat_minor": 2
}
